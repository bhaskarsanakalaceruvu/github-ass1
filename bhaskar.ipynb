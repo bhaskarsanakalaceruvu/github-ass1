{
  "nbformat": 4,
  "nbformat_minor": 0,
  "metadata": {
    "colab": {
      "provenance": [],
      "authorship_tag": "ABX9TyNA5jXPjLqgjQp7TYhEzSI8",
      "include_colab_link": true
    },
    "kernelspec": {
      "name": "python3",
      "display_name": "Python 3"
    },
    "language_info": {
      "name": "python"
    }
  },
  "cells": [
    {
      "cell_type": "markdown",
      "metadata": {
        "id": "view-in-github",
        "colab_type": "text"
      },
      "source": [
        "<a href=\"https://colab.research.google.com/github/bhaskarsanakalaceruvu/github-ass1/blob/main/bhaskar.ipynb\" target=\"_parent\"><img src=\"https://colab.research.google.com/assets/colab-badge.svg\" alt=\"Open In Colab\"/></a>"
      ]
    },
    {
      "cell_type": "code",
      "execution_count": 1,
      "metadata": {
        "colab": {
          "base_uri": "https://localhost:8080/",
          "height": 0
        },
        "id": "-xPmjvCQTk1V",
        "outputId": "ebc033f3-d9de-437c-c33a-597e560e9d84"
      },
      "outputs": [
        {
          "output_type": "execute_result",
          "data": {
            "text/plain": [
              "array([0., 0., 0., 0., 0., 0., 0., 0., 0., 0.])"
            ]
          },
          "metadata": {},
          "execution_count": 1
        }
      ],
      "source": [
        "                                                                        #NUMPY EXERCISE\n",
        "#SANAKALACHERUVU BHASKAR 21BCE9177\n",
        "\n",
        "import numpy as np\n",
        "zeros_array = np.zeros(10)\n",
        "zeros_array"
      ]
    },
    {
      "cell_type": "code",
      "source": [
        "                                                                  #CREATE AN ARRAY OF 10 ZEROS\n",
        "\n",
        "ones_array = np.ones(10)\n",
        "print(ones_array)"
      ],
      "metadata": {
        "colab": {
          "base_uri": "https://localhost:8080/",
          "height": 0
        },
        "id": "wuZ1-eB6TzrH",
        "outputId": "cdabdeef-7d50-4f94-f402-dc73a7a8bd5a"
      },
      "execution_count": 2,
      "outputs": [
        {
          "output_type": "stream",
          "name": "stdout",
          "text": [
            "[1. 1. 1. 1. 1. 1. 1. 1. 1. 1.]\n"
          ]
        }
      ]
    },
    {
      "cell_type": "code",
      "source": [
        "                                                                  #Create an array of 10 ones\n",
        "fives_array = 5 * np.ones(10)\n",
        "print(fives_array)\n"
      ],
      "metadata": {
        "colab": {
          "base_uri": "https://localhost:8080/",
          "height": 0
        },
        "id": "egvzkzRxT6hN",
        "outputId": "82154f3a-3119-4ca9-c1e3-a148ce048bb7"
      },
      "execution_count": 3,
      "outputs": [
        {
          "output_type": "stream",
          "name": "stdout",
          "text": [
            "[5. 5. 5. 5. 5. 5. 5. 5. 5. 5.]\n"
          ]
        }
      ]
    },
    {
      "cell_type": "code",
      "source": [
        "                                                                 #Create an array of 10 fives\n",
        "integer_array = np.arange(10, 51)\n",
        "print(integer_array)"
      ],
      "metadata": {
        "colab": {
          "base_uri": "https://localhost:8080/",
          "height": 0
        },
        "id": "pc8SAcJtT8rJ",
        "outputId": "1fcff8c0-a3c5-4f57-a669-12759477d1f1"
      },
      "execution_count": 4,
      "outputs": [
        {
          "output_type": "stream",
          "name": "stdout",
          "text": [
            "[10 11 12 13 14 15 16 17 18 19 20 21 22 23 24 25 26 27 28 29 30 31 32 33\n",
            " 34 35 36 37 38 39 40 41 42 43 44 45 46 47 48 49 50]\n"
          ]
        }
      ]
    },
    {
      "cell_type": "code",
      "source": [
        "                                                        #Create an array of the integers from 10 to 50\n",
        "even_integers_array = np.arange(10, 51, 2)\n",
        "even_integers_array"
      ],
      "metadata": {
        "colab": {
          "base_uri": "https://localhost:8080/",
          "height": 0
        },
        "id": "ZX-BRrc7UBeO",
        "outputId": "0f19e0aa-c47f-417c-b56f-21b6cc3f1070"
      },
      "execution_count": 5,
      "outputs": [
        {
          "output_type": "execute_result",
          "data": {
            "text/plain": [
              "array([10, 12, 14, 16, 18, 20, 22, 24, 26, 28, 30, 32, 34, 36, 38, 40, 42,\n",
              "       44, 46, 48, 50])"
            ]
          },
          "metadata": {},
          "execution_count": 5
        }
      ]
    },
    {
      "cell_type": "code",
      "source": [
        "                                                      #Create a 3x3 matrix with values ranging from 0 to 8\n",
        "matrix = np.arange(9).reshape(3, 3)\n",
        "print(matrix)"
      ],
      "metadata": {
        "colab": {
          "base_uri": "https://localhost:8080/",
          "height": 0
        },
        "id": "gVplD8DyUE7o",
        "outputId": "3bf7fb35-82ed-447e-8d48-3b625caa2ee6"
      },
      "execution_count": 6,
      "outputs": [
        {
          "output_type": "stream",
          "name": "stdout",
          "text": [
            "[[0 1 2]\n",
            " [3 4 5]\n",
            " [6 7 8]]\n"
          ]
        }
      ]
    },
    {
      "cell_type": "code",
      "source": [
        "                                                              #Create a 3x3 identity matrix\n",
        "identity_matrix = np.identity(3)\n",
        "print(identity_matrix)"
      ],
      "metadata": {
        "colab": {
          "base_uri": "https://localhost:8080/",
          "height": 0
        },
        "id": "UpGNyKKHUIM9",
        "outputId": "9cf4f69d-6d63-497c-c8d6-089fba109b78"
      },
      "execution_count": 7,
      "outputs": [
        {
          "output_type": "stream",
          "name": "stdout",
          "text": [
            "[[1. 0. 0.]\n",
            " [0. 1. 0.]\n",
            " [0. 0. 1.]]\n"
          ]
        }
      ]
    },
    {
      "cell_type": "code",
      "source": [
        "                                                    #Use NumPy to generate a random number between 0 and 1\n",
        "random_number = np.random.rand()\n",
        "print(random_number)"
      ],
      "metadata": {
        "colab": {
          "base_uri": "https://localhost:8080/",
          "height": 0
        },
        "id": "i0i5d0E3ULK4",
        "outputId": "9bdf671d-6865-4fa4-8719-25727d0a7b01"
      },
      "execution_count": 8,
      "outputs": [
        {
          "output_type": "stream",
          "name": "stdout",
          "text": [
            "0.7796640255698292\n"
          ]
        }
      ]
    },
    {
      "cell_type": "code",
      "source": [
        "                              #Use NumPy to generate an array of 25 random numbers sampled from a standard normal distribution\n",
        "\n",
        "random_numbers = np.random.randn(25)\n",
        "print(random_numbers)\n"
      ],
      "metadata": {
        "colab": {
          "base_uri": "https://localhost:8080/",
          "height": 0
        },
        "id": "74jeTjXVUOfD",
        "outputId": "459790af-2fd2-4d0f-b7b2-7566a69b6c21"
      },
      "execution_count": 9,
      "outputs": [
        {
          "output_type": "stream",
          "name": "stdout",
          "text": [
            "[-0.09065459 -0.37374828  0.42289483 -0.59443028 -0.75595637  0.15942129\n",
            " -0.3248282  -0.3885366  -0.1664951   0.51000783  0.32764285  0.95638239\n",
            " -0.56114282 -1.04601967 -1.59111595  0.07485567  1.36487537 -0.14625474\n",
            "  1.08766665 -0.61029722  0.81780591 -0.53872256 -2.10300347  0.60007222\n",
            " -0.73044681]\n"
          ]
        }
      ]
    },
    {
      "cell_type": "code",
      "source": [
        "                                                             #Create the following matrix:\n",
        "matrix = np.arange(0.01, 1.01, 0.01).reshape(10, 10)\n",
        "print(matrix)"
      ],
      "metadata": {
        "colab": {
          "base_uri": "https://localhost:8080/",
          "height": 0
        },
        "id": "32-f-eYrUSot",
        "outputId": "d20274a0-b676-4f1e-bd7a-0d68967acaf3"
      },
      "execution_count": 10,
      "outputs": [
        {
          "output_type": "stream",
          "name": "stdout",
          "text": [
            "[[0.01 0.02 0.03 0.04 0.05 0.06 0.07 0.08 0.09 0.1 ]\n",
            " [0.11 0.12 0.13 0.14 0.15 0.16 0.17 0.18 0.19 0.2 ]\n",
            " [0.21 0.22 0.23 0.24 0.25 0.26 0.27 0.28 0.29 0.3 ]\n",
            " [0.31 0.32 0.33 0.34 0.35 0.36 0.37 0.38 0.39 0.4 ]\n",
            " [0.41 0.42 0.43 0.44 0.45 0.46 0.47 0.48 0.49 0.5 ]\n",
            " [0.51 0.52 0.53 0.54 0.55 0.56 0.57 0.58 0.59 0.6 ]\n",
            " [0.61 0.62 0.63 0.64 0.65 0.66 0.67 0.68 0.69 0.7 ]\n",
            " [0.71 0.72 0.73 0.74 0.75 0.76 0.77 0.78 0.79 0.8 ]\n",
            " [0.81 0.82 0.83 0.84 0.85 0.86 0.87 0.88 0.89 0.9 ]\n",
            " [0.91 0.92 0.93 0.94 0.95 0.96 0.97 0.98 0.99 1.  ]]\n"
          ]
        }
      ]
    },
    {
      "cell_type": "code",
      "source": [
        "                                                  #Create an array of 20 linearly spaced points between 0 and 1:\n",
        "linear_points = np.linspace(0, 1, 20)\n",
        "print(linear_points)"
      ],
      "metadata": {
        "colab": {
          "base_uri": "https://localhost:8080/",
          "height": 0
        },
        "id": "NxLfYXMBUWrz",
        "outputId": "982cce06-fc8f-4d82-bd42-2e5cc308733a"
      },
      "execution_count": 11,
      "outputs": [
        {
          "output_type": "stream",
          "name": "stdout",
          "text": [
            "[0.         0.05263158 0.10526316 0.15789474 0.21052632 0.26315789\n",
            " 0.31578947 0.36842105 0.42105263 0.47368421 0.52631579 0.57894737\n",
            " 0.63157895 0.68421053 0.73684211 0.78947368 0.84210526 0.89473684\n",
            " 0.94736842 1.        ]\n"
          ]
        }
      ]
    },
    {
      "cell_type": "code",
      "source": [
        "                                                                   #Numpy Indexing and Selection\n",
        "                                        #Now you will be given a few matrices, and be asked to replicate the resulting matrix outputs:\n",
        "\n",
        "mat = np.arange(1,26).reshape(5,5)\n",
        "print(mat)"
      ],
      "metadata": {
        "colab": {
          "base_uri": "https://localhost:8080/",
          "height": 0
        },
        "id": "AoDfLEWLUZ8I",
        "outputId": "9e5d26ff-8d98-458c-cae1-0695a9a070b8"
      },
      "execution_count": 12,
      "outputs": [
        {
          "output_type": "stream",
          "name": "stdout",
          "text": [
            "[[ 1  2  3  4  5]\n",
            " [ 6  7  8  9 10]\n",
            " [11 12 13 14 15]\n",
            " [16 17 18 19 20]\n",
            " [21 22 23 24 25]]\n"
          ]
        }
      ]
    },
    {
      "cell_type": "code",
      "source": [
        "                                                # WRITE CODE HERE THAT REPRODUCES THE OUTPUT OF THE CELL BELOW\n",
        "                                                # BE CAREFUL NOT TO RUN THE CELL BELOW, OTHERWISE YOU WON'T\n",
        "                                                # BE ABLE TO SEE THE OUTPUT ANY MORE\n",
        "\n",
        "submatrix = mat[2:5, 1:5]\n",
        "\n",
        "print(submatrix)"
      ],
      "metadata": {
        "colab": {
          "base_uri": "https://localhost:8080/",
          "height": 0
        },
        "id": "-JZ53EIOUdtG",
        "outputId": "ee4ea9e7-7244-416d-c12b-a2f9bd7b8efc"
      },
      "execution_count": 13,
      "outputs": [
        {
          "output_type": "stream",
          "name": "stdout",
          "text": [
            "[[12 13 14 15]\n",
            " [17 18 19 20]\n",
            " [22 23 24 25]]\n"
          ]
        }
      ]
    },
    {
      "cell_type": "code",
      "source": [
        "                                              # WRITE CODE HERE THAT REPRODUCES THE OUTPUT OF THE CELL BELOW\n",
        "                                              # BE CAREFUL NOT TO RUN THE CELL BELOW, OTHERWISE YOU WON'T\n",
        "                                              # BE ABLE TO SEE THE OUTPUT ANY MORE\n",
        "\n",
        "value_20 = mat[3, 4]\n",
        "print(value_20)"
      ],
      "metadata": {
        "colab": {
          "base_uri": "https://localhost:8080/",
          "height": 0
        },
        "id": "Y1W3NjyNUjH7",
        "outputId": "473c8742-c80f-45a4-d99d-2b4fc58cc22b"
      },
      "execution_count": 14,
      "outputs": [
        {
          "output_type": "stream",
          "name": "stdout",
          "text": [
            "20\n"
          ]
        }
      ]
    },
    {
      "cell_type": "code",
      "source": [
        "                                              # WRITE CODE HERE THAT REPRODUCES THE OUTPUT OF THE CELL BELOW\n",
        "                                              # BE CAREFUL NOT TO RUN THE CELL BELOW, OTHERWISE YOU WON'T\n",
        "                                              # BE ABLE TO SEE THE OUTPUT ANY MORE\n",
        "\n",
        "subarray = mat[0:3, 1:2]\n",
        "\n",
        "print(subarray)"
      ],
      "metadata": {
        "colab": {
          "base_uri": "https://localhost:8080/",
          "height": 0
        },
        "id": "QITUiY7nUm6X",
        "outputId": "bb582a1d-4edb-431b-c517-313180cf3ab8"
      },
      "execution_count": 15,
      "outputs": [
        {
          "output_type": "stream",
          "name": "stdout",
          "text": [
            "[[ 2]\n",
            " [ 7]\n",
            " [12]]\n"
          ]
        }
      ]
    },
    {
      "cell_type": "code",
      "source": [
        "                                              # WRITE CODE HERE THAT REPRODUCES THE OUTPUT OF THE CELL BELOW\n",
        "                                              # BE CAREFUL NOT TO RUN THE CELL BELOW, OTHERWISE YOU WON'T\n",
        "                                              # BE ABLE TO SEE THE OUTPUT ANY MORE\n",
        "\n",
        "last_row = mat[-1, :]\n",
        "print(last_row)"
      ],
      "metadata": {
        "colab": {
          "base_uri": "https://localhost:8080/",
          "height": 0
        },
        "id": "3hg1IWY1Utix",
        "outputId": "e43a4aac-8d06-4d34-cd8f-4df69f1e02fa"
      },
      "execution_count": 16,
      "outputs": [
        {
          "output_type": "stream",
          "name": "stdout",
          "text": [
            "[21 22 23 24 25]\n"
          ]
        }
      ]
    },
    {
      "cell_type": "code",
      "source": [
        "                                              # WRITE CODE HERE THAT REPRODUCES THE OUTPUT OF THE CELL BELOW\n",
        "                                              # BE CAREFUL NOT TO RUN THE CELL BELOW, OTHERWISE YOU WON'T\n",
        "                                              # BE ABLE TO SEE THE OUTPUT ANY MORE\n",
        "\n",
        "desired_subarray = mat[3:5, :]\n",
        "\n",
        "print(desired_subarray)"
      ],
      "metadata": {
        "colab": {
          "base_uri": "https://localhost:8080/",
          "height": 0
        },
        "id": "qOqgAsbjUypl",
        "outputId": "c3031fd6-20fc-4bf8-aa8a-bcaae38af37b"
      },
      "execution_count": 17,
      "outputs": [
        {
          "output_type": "stream",
          "name": "stdout",
          "text": [
            "[[16 17 18 19 20]\n",
            " [21 22 23 24 25]]\n"
          ]
        }
      ]
    },
    {
      "cell_type": "code",
      "source": [
        "                                                        #Now do the following\n",
        "                                                        #Get the sum of all the values in mat\n",
        "\n",
        "total_sum = np.sum(mat)\n",
        "\n",
        "print(total_sum)"
      ],
      "metadata": {
        "colab": {
          "base_uri": "https://localhost:8080/",
          "height": 0
        },
        "id": "GjwGfDyPU3z1",
        "outputId": "172fb99f-0247-4eea-d811-8a0b013d50f6"
      },
      "execution_count": 18,
      "outputs": [
        {
          "output_type": "stream",
          "name": "stdout",
          "text": [
            "325\n"
          ]
        }
      ]
    },
    {
      "cell_type": "code",
      "source": [
        "                                                    #Get the standard deviation of the values in mat\n",
        "\n",
        "std_deviation = np.std(mat)\n",
        "\n",
        "print(std_deviation)"
      ],
      "metadata": {
        "colab": {
          "base_uri": "https://localhost:8080/",
          "height": 0
        },
        "id": "Cr6Goc_KU_9R",
        "outputId": "19d4979a-3a16-4bec-f02d-2cf4521c35b5"
      },
      "execution_count": 19,
      "outputs": [
        {
          "output_type": "stream",
          "name": "stdout",
          "text": [
            "7.211102550927978\n"
          ]
        }
      ]
    },
    {
      "cell_type": "code",
      "source": [
        "                                                        #Get the sum of all the columns in mat\n",
        "\n",
        "\n",
        "column_sums = np.sum(mat, axis=0)\n",
        "\n",
        "print(column_sums)"
      ],
      "metadata": {
        "colab": {
          "base_uri": "https://localhost:8080/",
          "height": 0
        },
        "id": "V5r8q2dmVFUv",
        "outputId": "e6a21c5c-05b0-4e6f-cfb5-27cc03d684c5"
      },
      "execution_count": 20,
      "outputs": [
        {
          "output_type": "stream",
          "name": "stdout",
          "text": [
            "[55 60 65 70 75]\n"
          ]
        }
      ]
    }
  ]
}